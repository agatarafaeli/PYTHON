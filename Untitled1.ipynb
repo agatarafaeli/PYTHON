{
  "nbformat": 4,
  "nbformat_minor": 0,
  "metadata": {
    "colab": {
      "provenance": [],
      "authorship_tag": "ABX9TyN1KFOEWzWYRBPol/MadoH8",
      "include_colab_link": true
    },
    "kernelspec": {
      "name": "python3",
      "display_name": "Python 3"
    },
    "language_info": {
      "name": "python"
    }
  },
  "cells": [
    {
      "cell_type": "markdown",
      "metadata": {
        "id": "view-in-github",
        "colab_type": "text"
      },
      "source": [
        "<a href=\"https://colab.research.google.com/github/agatarafaeli/PYTHON/blob/main/Untitled1.ipynb\" target=\"_parent\"><img src=\"https://colab.research.google.com/assets/colab-badge.svg\" alt=\"Open In Colab\"/></a>"
      ]
    },
    {
      "cell_type": "markdown",
      "source": [
        "#**aula 1** ⏰ 💓 🥰"
      ],
      "metadata": {
        "id": "HkWx_xKVpEaD"
      }
    },
    {
      "cell_type": "code",
      "source": [
        "print(\"I competição de programaçãode Start\")\n",
        "ano = \"IX\"\n",
        "print(print(f\"{ano} competição de programação da start\"))"
      ],
      "metadata": {
        "colab": {
          "base_uri": "https://localhost:8080/"
        },
        "id": "hS0wG7Z0p0Fa",
        "outputId": "4dc374a4-4975-4f3f-d5de-d868bd812b78"
      },
      "execution_count": 3,
      "outputs": [
        {
          "output_type": "stream",
          "name": "stdout",
          "text": [
            "I competição de programaçãode Start\n",
            "IX competição de programação da start\n",
            "None\n"
          ]
        }
      ]
    },
    {
      "cell_type": "code",
      "source": [],
      "metadata": {
        "id": "zfO8Jr5HqxdT"
      },
      "execution_count": null,
      "outputs": []
    }
  ]
}