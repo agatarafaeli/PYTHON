{
  "nbformat": 4,
  "nbformat_minor": 0,
  "metadata": {
    "colab": {
      "provenance": [],
      "authorship_tag": "ABX9TyM6WCnsci3WUAoCX1xPdl9e",
      "include_colab_link": true
    },
    "kernelspec": {
      "name": "python3",
      "display_name": "Python 3"
    },
    "language_info": {
      "name": "python"
    }
  },
  "cells": [
    {
      "cell_type": "markdown",
      "metadata": {
        "id": "view-in-github",
        "colab_type": "text"
      },
      "source": [
        "<a href=\"https://colab.research.google.com/github/agatarafaeli/PYTHON/blob/main/Untitled1.ipynb\" target=\"_parent\"><img src=\"https://colab.research.google.com/assets/colab-badge.svg\" alt=\"Open In Colab\"/></a>"
      ]
    },
    {
      "cell_type": "markdown",
      "source": [
        "#**aula 1** ⏰ 💓 🥰"
      ],
      "metadata": {
        "id": "HkWx_xKVpEaD"
      }
    },
    {
      "cell_type": "code",
      "source": [],
      "metadata": {
        "colab": {
          "base_uri": "https://localhost:8080/"
        },
        "id": "hS0wG7Z0p0Fa",
        "outputId": "4dc374a4-4975-4f3f-d5de-d868bd812b78"
      },
      "execution_count": 3,
      "outputs": [
        {
          "output_type": "stream",
          "name": "stdout",
          "text": [
            "I competição de programaçãode Start\n",
            "IX competição de programação da start\n",
            "None\n"
          ]
        }
      ]
    },
    {
      "cell_type": "markdown",
      "source": [],
      "metadata": {
        "id": "WIlAJgJBsOdO"
      }
    },
    {
      "cell_type": "markdown",
      "source": [
        "# **AULA 2** ⏰ 👾 💓"
      ],
      "metadata": {
        "id": "4fBMiFZBsQMG"
      }
    },
    {
      "cell_type": "code",
      "source": [
        ""
      ],
      "metadata": {
        "id": "lFq4xtkqsm_9"
      },
      "execution_count": 3,
      "outputs": []
    },
    {
      "cell_type": "markdown",
      "source": [
        "# ** AULA 3 TABUADA ** 💯 ⛄ 💓"
      ],
      "metadata": {
        "id": "EXjG2Ug6tlI6"
      }
    },
    {
      "cell_type": "code",
      "source": [],
      "metadata": {
        "id": "-a3Nf10juYy9"
      },
      "execution_count": null,
      "outputs": []
    },
    {
      "cell_type": "markdown",
      "source": [
        "# **AULA 4 IMC** 🖤 😊 🌗"
      ],
      "metadata": {
        "id": "8UiuDwwBuZm1"
      }
    },
    {
      "cell_type": "code",
      "source": [],
      "metadata": {
        "id": "MFVqJSpYu8e1"
      },
      "execution_count": null,
      "outputs": []
    }
  ]
}